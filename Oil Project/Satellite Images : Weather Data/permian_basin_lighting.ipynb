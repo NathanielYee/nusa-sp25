{
 "cells": [
  {
   "cell_type": "code",
   "execution_count": 81,
   "id": "6d0bee21-2571-42af-878f-04429d447625",
   "metadata": {},
   "outputs": [],
   "source": [
    "import pandas as pd\n",
    "import numpy as np\n",
    "from datetime import datetime\n",
    "from PIL import Image\n",
    "from sklearn.linear_model import LinearRegression\n",
    "import warnings\n",
    "\n",
    "warnings.filterwarnings('ignore')"
   ]
  },
  {
   "cell_type": "markdown",
   "id": "bba6789d-dc6b-410d-9737-7092f64baf47",
   "metadata": {},
   "source": [
    "Step 1. For each month (image), count the number of pixels above a certain light threshold (lower_bound)."
   ]
  },
  {
   "cell_type": "code",
   "execution_count": 82,
   "id": "bc3be88c-a536-4e60-b824-7dd2ee8f9dc4",
   "metadata": {},
   "outputs": [],
   "source": [
    "#Set up function to count pixels in image that meet criteria\n",
    "def count_color_pixels_in_range(name, lower_bound, upper_bound):\n",
    "\n",
    "    image_path = f'Permian\\\\{name}.png'\n",
    "    \n",
    "    img = Image.open(image_path)\n",
    "    \n",
    "    img = img.convert(\"L\")\n",
    "    \n",
    "    pixels = img.getdata()\n",
    "    \n",
    "    color_count = 0\n",
    "\n",
    "    for pixel in pixels:\n",
    "        if lower_bound[0] <= pixel <= upper_bound[0]:\n",
    "            color_count += 1\n",
    "\n",
    "    return color_count"
   ]
  },
  {
   "cell_type": "code",
   "execution_count": 121,
   "id": "49776e89-0f59-40df-8863-b65b577268a0",
   "metadata": {},
   "outputs": [],
   "source": [
    "lower_bound = (225,)  # Minimum grayscale value level to return as \"light\" - edit as necessary\n",
    "upper_bound = (255,)  # Maximum value - do not edit"
   ]
  },
  {
   "cell_type": "code",
   "execution_count": 122,
   "id": "05028599-0151-4c02-b432-65b3b2cd1733",
   "metadata": {},
   "outputs": [],
   "source": [
    "#Set up list of file names to retrieve based on dates\n",
    "names_list = []\n",
    "for year in range(2013,2024):\n",
    "    for month in range(1,13):\n",
    "        if month < 10:\n",
    "            month_str = f'0{month}'\n",
    "        else:\n",
    "            month_str = str(month)\n",
    "        name = f'{year}-{month_str}'\n",
    "        names_list.append(name)"
   ]
  },
  {
   "cell_type": "code",
   "execution_count": 123,
   "id": "e3407bc9-de55-4120-aa5d-475de2a5be76",
   "metadata": {},
   "outputs": [],
   "source": [
    "#Set up, append to list light count in each image\n",
    "lights_count_list = []\n",
    "\n",
    "for name in names_list:\n",
    "    lights_count_list.append(count_color_pixels_in_range(name,lower_bound, upper_bound))"
   ]
  },
  {
   "cell_type": "code",
   "execution_count": 124,
   "id": "60d4193f-2e83-4d56-b2ec-1c4cb442aff5",
   "metadata": {},
   "outputs": [
    {
     "data": {
      "text/html": [
       "<div>\n",
       "<style scoped>\n",
       "    .dataframe tbody tr th:only-of-type {\n",
       "        vertical-align: middle;\n",
       "    }\n",
       "\n",
       "    .dataframe tbody tr th {\n",
       "        vertical-align: top;\n",
       "    }\n",
       "\n",
       "    .dataframe thead th {\n",
       "        text-align: right;\n",
       "    }\n",
       "</style>\n",
       "<table border=\"1\" class=\"dataframe\">\n",
       "  <thead>\n",
       "    <tr style=\"text-align: right;\">\n",
       "      <th></th>\n",
       "      <th>Date</th>\n",
       "      <th>Light Output (Pixels)</th>\n",
       "    </tr>\n",
       "  </thead>\n",
       "  <tbody>\n",
       "    <tr>\n",
       "      <th>0</th>\n",
       "      <td>2013-01-01</td>\n",
       "      <td>39631</td>\n",
       "    </tr>\n",
       "    <tr>\n",
       "      <th>1</th>\n",
       "      <td>2013-02-01</td>\n",
       "      <td>38303</td>\n",
       "    </tr>\n",
       "    <tr>\n",
       "      <th>2</th>\n",
       "      <td>2013-03-01</td>\n",
       "      <td>43867</td>\n",
       "    </tr>\n",
       "    <tr>\n",
       "      <th>3</th>\n",
       "      <td>2013-04-01</td>\n",
       "      <td>46474</td>\n",
       "    </tr>\n",
       "    <tr>\n",
       "      <th>4</th>\n",
       "      <td>2013-05-01</td>\n",
       "      <td>44879</td>\n",
       "    </tr>\n",
       "    <tr>\n",
       "      <th>...</th>\n",
       "      <td>...</td>\n",
       "      <td>...</td>\n",
       "    </tr>\n",
       "    <tr>\n",
       "      <th>127</th>\n",
       "      <td>2023-08-01</td>\n",
       "      <td>209331</td>\n",
       "    </tr>\n",
       "    <tr>\n",
       "      <th>128</th>\n",
       "      <td>2023-09-01</td>\n",
       "      <td>195789</td>\n",
       "    </tr>\n",
       "    <tr>\n",
       "      <th>129</th>\n",
       "      <td>2023-10-01</td>\n",
       "      <td>208211</td>\n",
       "    </tr>\n",
       "    <tr>\n",
       "      <th>130</th>\n",
       "      <td>2023-11-01</td>\n",
       "      <td>200613</td>\n",
       "    </tr>\n",
       "    <tr>\n",
       "      <th>131</th>\n",
       "      <td>2023-12-01</td>\n",
       "      <td>162112</td>\n",
       "    </tr>\n",
       "  </tbody>\n",
       "</table>\n",
       "<p>132 rows × 2 columns</p>\n",
       "</div>"
      ],
      "text/plain": [
       "           Date  Light Output (Pixels)\n",
       "0    2013-01-01                  39631\n",
       "1    2013-02-01                  38303\n",
       "2    2013-03-01                  43867\n",
       "3    2013-04-01                  46474\n",
       "4    2013-05-01                  44879\n",
       "..          ...                    ...\n",
       "127  2023-08-01                 209331\n",
       "128  2023-09-01                 195789\n",
       "129  2023-10-01                 208211\n",
       "130  2023-11-01                 200613\n",
       "131  2023-12-01                 162112\n",
       "\n",
       "[132 rows x 2 columns]"
      ]
     },
     "execution_count": 124,
     "metadata": {},
     "output_type": "execute_result"
    }
   ],
   "source": [
    "#Create dates list\n",
    "date_list = []\n",
    "for x in names_list:\n",
    "    year = int(x[0:4])\n",
    "    month = int(x[5:7])\n",
    "    date = datetime(year, month, 1).date()\n",
    "    date_list.append(date)\n",
    "\n",
    "\n",
    "#Create datafarme of light output at each month\n",
    "light_output_df = pd.DataFrame({\n",
    "    'Date': date_list,\n",
    "    'Light Output (Pixels)': lights_count_list\n",
    "})\n",
    "\n",
    "light_output_df"
   ]
  },
  {
   "cell_type": "markdown",
   "id": "8235710f-cd41-418c-9405-d194dec4b758",
   "metadata": {},
   "source": [
    "Step 2. Feed in actual oil output figures from EIA data set, set training window of n periods to fit regression, test OOS performance\n"
   ]
  },
  {
   "cell_type": "code",
   "execution_count": 126,
   "id": "b008859c-c571-400a-9556-1d79440593f8",
   "metadata": {},
   "outputs": [
    {
     "name": "stdout",
     "output_type": "stream",
     "text": [
      "Out-of-Sample r-squared: 0.5125994866591173\n"
     ]
    }
   ],
   "source": [
    "#Retrieve, clean EIA oil output figures\n",
    "oil_output_df = pd.read_excel('EIA Figure - Texas Million Barrels.xlsx',parse_dates=['Month'])\n",
    "oil_output_df.rename(columns={'Month': 'Date'},inplace=True)\n",
    "oil_output_df['Date'] = [x.date() for x in oil_output_df['Date']]\n",
    "\n",
    "#Merge EIA figures with light figures\n",
    "matched_data = pd.merge(light_output_df, oil_output_df, on='Date', how='left')\n",
    "matched_data.set_index('Date',inplace=True)\n",
    "\n",
    "#Set up sum-squared-residuals, sum-squared-total lists for rsq calculation\n",
    "ssr_list = []\n",
    "sst_list = []\n",
    "\n",
    "#Set training window size - edit as necessary\n",
    "windowsize = 24\n",
    "\n",
    "#Roll training window\n",
    "for t in range(0,len(matched_data.index)-windowsize):\n",
    "    start_date = matched_data.index[t]\n",
    "    end_date = matched_data.index[t+windowsize-1]\n",
    "    oos_date = matched_data.index[t+windowsize]\n",
    "\n",
    "    #Get training window via date indexers\n",
    "    training_window = matched_data.loc[start_date:end_date]\n",
    "\n",
    "    #Fit model in-sample\n",
    "    y = training_window['EIA Figure']\n",
    "    X = training_window[['Light Output (Pixels)']]\n",
    "    regression = LinearRegression().fit(X,y)\n",
    "\n",
    "    #Retrieve regression coefficients\n",
    "    β0 = regression.intercept_\n",
    "    β1 = regression.coef_[0]\n",
    "    \n",
    "    #Test OOS - one month after training window_end\n",
    "    OOS_y = matched_data.loc[oos_date]['EIA Figure']\n",
    "    OOS_X = matched_data.loc[oos_date]['Light Output (Pixels)']\n",
    "\n",
    "    y_predicted = β0 + β1 * OOS_X\n",
    "    residual_squared = (y_predicted - OOS_y)**2 \n",
    "    y_var_squared = (OOS_y - np.average(y))**2\n",
    "\n",
    "    ssr_list.append(residual_squared)\n",
    "    sst_list.append(y_var_squared)\n",
    "\n",
    "oos_rsq = 1 - (sum(ssr_list)/sum(sst_list))\n",
    "\n",
    "print(f'Out-of-Sample r-squared: {oos_rsq}')"
   ]
  }
 ],
 "metadata": {
  "kernelspec": {
   "display_name": "Python 3 (ipykernel)",
   "language": "python",
   "name": "python3"
  },
  "language_info": {
   "codemirror_mode": {
    "name": "ipython",
    "version": 3
   },
   "file_extension": ".py",
   "mimetype": "text/x-python",
   "name": "python",
   "nbconvert_exporter": "python",
   "pygments_lexer": "ipython3",
   "version": "3.10.6"
  }
 },
 "nbformat": 4,
 "nbformat_minor": 5
}
